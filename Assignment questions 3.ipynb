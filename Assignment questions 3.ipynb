{
 "cells": [
  {
   "cell_type": "markdown",
   "id": "b280f8b3-33a3-4dc6-81a2-62dad6967ecb",
   "metadata": {},
   "source": [
    "# Explain the significance of python Keywords and provide example of five keywords. "
   ]
  },
  {
   "cell_type": "markdown",
   "id": "d321c6b9-afe9-44dc-9d7b-45dfc07351fa",
   "metadata": {},
   "source": [
    "Python keywords are special reserved wods that have specific meanings and purposes which cannot be used for anything but those of specific purposes. These keywords are always available and we never have to import then into your code. \n",
    "\n",
    "Example of Keywords:\n",
    "\n",
    "False\n",
    "None\n",
    "True\n",
    "and \n",
    "as \n",
    "assert\n",
    "from\n",
    "for and etc\n"
   ]
  },
  {
   "cell_type": "markdown",
   "id": "5a279a02-c1c8-4296-9fc1-4d605fdeaddf",
   "metadata": {},
   "source": [
    " Describe the rules for defining identifiers in Python and provide an example."
   ]
  },
  {
   "cell_type": "markdown",
   "id": "be02c14f-a321-4d22-8c54-f76898dd9e27",
   "metadata": {},
   "source": [
    "Rule no 1:\n",
    "    Keywords cannot be used as identifiers as they are reserved words in Python. \n",
    "Rule no 2:\n",
    "    Python identifiers can contain letters in a small case (a-z), upper case (A-Z), digits (0-9), and underscore (_).\n",
    "Rule no 3:\n",
    "    Identifiers cannot begin with a digit. Example- 10test would be invalid identifier. \n",
    "Rule no 4:\n",
    "    Python identifier can't contain digits. \n",
    "Rule no 5:\n",
    "    Identifier name can start from underscore (_). Example- _test.\n",
    "Rule no 6:\n",
    "    There is no limit on the length of identifier.\n",
    "Rule no 7:\n",
    "    Python identifiers names are case sensitive. \n",
    "    \n",
    "    \n",
    "    Examples_\n",
    "    _ran\n",
    "    ab10c\n",
    "    "
   ]
  },
  {
   "cell_type": "markdown",
   "id": "9e567796-aca8-4b00-b634-dc1d8d7e1478",
   "metadata": {},
   "source": [
    "What are comments in Python, and why are they usefull Provide an example"
   ]
  },
  {
   "cell_type": "markdown",
   "id": "7004c4e8-ce73-4545-84a6-f63f1cf9ecb9",
   "metadata": {
    "tags": []
   },
   "source": [
    "Comments are an integral part of any program. They can come in the form of module-level docstrings, or even inline explanations that help shed light on a complex function.\n",
    "\n",
    "# I am writing this for the evaluator as an example for the above question. "
   ]
  },
  {
   "cell_type": "markdown",
   "id": "90c3f9e2-79a5-4e8f-ad9c-825a336e2ad9",
   "metadata": {},
   "source": [
    "Why is proper indentation important in Python?"
   ]
  },
  {
   "cell_type": "markdown",
   "id": "4096f7e4-a8fd-480e-a509-78a1e9e8456d",
   "metadata": {},
   "source": [
    "Indentation is a very important concept of Python because without properly indenting the Python code, you will end up seeing IndentationError and the code will not get compiled. Python indentation refers to adding white space before a statement to a particular block of code."
   ]
  },
  {
   "cell_type": "markdown",
   "id": "21e466f7-29af-4144-9bca-b176d1be702f",
   "metadata": {},
   "source": [
    "Differentiate between expression and statement in Python with examples."
   ]
  },
  {
   "cell_type": "markdown",
   "id": "17931932-6d38-4b76-9c76-15c580fc62ff",
   "metadata": {},
   "source": [
    "Expressions only contain identifiers, literals and operators, where operators include arithmetic and boolean operators, the function call operator () the subscription operator [] and similar, and can be reduced to some kind of \"value\", which can be any Python object. Examples- ^, [...], (), $,  \n",
    "\n"
   ]
  }
 ],
 "metadata": {
  "kernelspec": {
   "display_name": "Python 3 (ipykernel)",
   "language": "python",
   "name": "python3"
  },
  "language_info": {
   "codemirror_mode": {
    "name": "ipython",
    "version": 3
   },
   "file_extension": ".py",
   "mimetype": "text/x-python",
   "name": "python",
   "nbconvert_exporter": "python",
   "pygments_lexer": "ipython3",
   "version": "3.10.8"
  }
 },
 "nbformat": 4,
 "nbformat_minor": 5
}
