{
 "cells": [
  {
   "cell_type": "raw",
   "id": "a75987fd-ed30-44f9-80be-358254c8aef4",
   "metadata": {},
   "source": [
    "# convert an integer to a floating- point number."
   ]
  },
  {
   "cell_type": "code",
   "execution_count": 1,
   "id": "d0149c9f-d65f-4509-ac5c-cbd0cf5b8d18",
   "metadata": {},
   "outputs": [
    {
     "name": "stdout",
     "output_type": "stream",
     "text": [
      "42.0\n"
     ]
    }
   ],
   "source": [
    "num_int = 42\n",
    "float_num = float(num_int)\n",
    "print(float_num)\n"
   ]
  },
  {
   "cell_type": "code",
   "execution_count": 2,
   "id": "3ca95504-f944-42d0-b58e-669213ddcdf8",
   "metadata": {},
   "outputs": [
    {
     "name": "stdout",
     "output_type": "stream",
     "text": [
      "56.0\n"
     ]
    }
   ],
   "source": [
    "num_int = 56\n",
    "float_num = float(num_int)\n",
    "print(float_num)\n"
   ]
  },
  {
   "cell_type": "markdown",
   "id": "da2cdc69-f90c-4260-990a-a3bb3bcf0c6c",
   "metadata": {},
   "source": [
    "#convert a float to an integer."
   ]
  },
  {
   "cell_type": "code",
   "execution_count": 4,
   "id": "2217bb60-0051-40ca-bb2d-d0a5f42abc04",
   "metadata": {},
   "outputs": [
    {
     "name": "stdout",
     "output_type": "stream",
     "text": [
      "236\n"
     ]
    }
   ],
   "source": [
    "float_num = 236.122\n",
    "num_int = int(float_num)\n",
    "print(num_int)"
   ]
  },
  {
   "cell_type": "code",
   "execution_count": 6,
   "id": "25877bf1-d41e-4a05-ae78-0406cd870dd2",
   "metadata": {},
   "outputs": [
    {
     "name": "stdout",
     "output_type": "stream",
     "text": [
      "25\n"
     ]
    }
   ],
   "source": [
    "float_num = 25.56\n",
    "num_int = int(float_num)\n",
    "print(num_int)"
   ]
  },
  {
   "cell_type": "markdown",
   "id": "a9813016-d3d2-4344-81a9-c759bbc408e6",
   "metadata": {},
   "source": [
    "#convert an integer to a string.\n"
   ]
  },
  {
   "cell_type": "code",
   "execution_count": 10,
   "id": "cc84fde4-5395-4398-bca5-957e102b7b9f",
   "metadata": {},
   "outputs": [
    {
     "name": "stdout",
     "output_type": "stream",
     "text": [
      "45\n"
     ]
    }
   ],
   "source": [
    "num_int = 45\n",
    "num_str = str(num_int)\n",
    "print(num_str)"
   ]
  },
  {
   "cell_type": "code",
   "execution_count": 12,
   "id": "e4dcb8a3-2491-4c5b-93d7-fa22337d1267",
   "metadata": {},
   "outputs": [
    {
     "data": {
      "text/plain": [
       "str"
      ]
     },
     "execution_count": 12,
     "metadata": {},
     "output_type": "execute_result"
    }
   ],
   "source": [
    "type(num_str)"
   ]
  },
  {
   "cell_type": "code",
   "execution_count": 13,
   "id": "9b47494d-2fe7-41a0-9b90-efef456fb034",
   "metadata": {},
   "outputs": [
    {
     "name": "stdout",
     "output_type": "stream",
     "text": [
      "56\n"
     ]
    }
   ],
   "source": [
    "num_int = 56\n",
    "num_str = str(num_int)\n",
    "print(num_str)"
   ]
  },
  {
   "cell_type": "code",
   "execution_count": 15,
   "id": "f06a9e73-7ea6-4d2c-82b0-44c8e593f5ad",
   "metadata": {},
   "outputs": [
    {
     "data": {
      "text/plain": [
       "str"
      ]
     },
     "execution_count": 15,
     "metadata": {},
     "output_type": "execute_result"
    }
   ],
   "source": [
    "type(num_str)"
   ]
  },
  {
   "cell_type": "markdown",
   "id": "8f7dbce6-e09e-44d1-84b0-4e57e1b105bc",
   "metadata": {},
   "source": [
    "#conver a list to a tuple."
   ]
  },
  {
   "cell_type": "code",
   "execution_count": 1,
   "id": "619f4ecd-8405-4a28-a621-1f0ac2797015",
   "metadata": {},
   "outputs": [
    {
     "name": "stdout",
     "output_type": "stream",
     "text": [
      "[10, 20, 30, 40, 50]\n"
     ]
    }
   ],
   "source": [
    "value = (10, 20, 30, 40, 50)\n",
    "my_tuple = list(value)\n",
    "print(my_tuple)"
   ]
  },
  {
   "cell_type": "code",
   "execution_count": 2,
   "id": "3ddffac3-e649-4a07-a55f-dc72e06a0f65",
   "metadata": {},
   "outputs": [
    {
     "data": {
      "text/plain": [
       "tuple"
      ]
     },
     "execution_count": 2,
     "metadata": {},
     "output_type": "execute_result"
    }
   ],
   "source": [
    "type(value)"
   ]
  },
  {
   "cell_type": "code",
   "execution_count": 3,
   "id": "82f1ee9e-a7f4-4f6f-9708-19e3f5d6ae56",
   "metadata": {},
   "outputs": [
    {
     "name": "stdout",
     "output_type": "stream",
     "text": [
      "[1, 2, 3, 4]\n"
     ]
    }
   ],
   "source": [
    "a = (1, 2, 3, 4)\n",
    "num_tuple = list(a)\n",
    "print(num_tuple)"
   ]
  },
  {
   "cell_type": "code",
   "execution_count": 4,
   "id": "16b4c21c-e664-4cbf-8127-f9b4c6a03645",
   "metadata": {},
   "outputs": [
    {
     "data": {
      "text/plain": [
       "tuple"
      ]
     },
     "execution_count": 4,
     "metadata": {},
     "output_type": "execute_result"
    }
   ],
   "source": [
    "type(a)"
   ]
  },
  {
   "cell_type": "markdown",
   "id": "c17af36e-ead3-4d8b-8d8f-abb00f07050c",
   "metadata": {},
   "source": [
    "#conver a tuple to a list.\n"
   ]
  },
  {
   "cell_type": "code",
   "execution_count": 3,
   "id": "770f705c-a119-4a8d-b830-a3375d99a2cb",
   "metadata": {},
   "outputs": [
    {
     "name": "stdout",
     "output_type": "stream",
     "text": [
      "(10, 20, 30, 40, 50)\n"
     ]
    }
   ],
   "source": [
    "b = (10, 20, 30, 40, 50)\n",
    "my_tuple = list(b)\n",
    "print(b)"
   ]
  },
  {
   "cell_type": "code",
   "execution_count": 4,
   "id": "f649de74-6af4-4d0a-bfac-5360367f27fc",
   "metadata": {},
   "outputs": [
    {
     "data": {
      "text/plain": [
       "list"
      ]
     },
     "execution_count": 4,
     "metadata": {},
     "output_type": "execute_result"
    }
   ],
   "source": [
    "type(my_tuple)"
   ]
  },
  {
   "cell_type": "code",
   "execution_count": 5,
   "id": "94a24352-a829-4557-a16f-08d3c7599228",
   "metadata": {},
   "outputs": [
    {
     "name": "stdout",
     "output_type": "stream",
     "text": [
      "[122, 322, 333, 444]\n"
     ]
    }
   ],
   "source": [
    "x = (122, 322, 333, 444)\n",
    "my_tuple = list(x)\n",
    "print(my_tuple)"
   ]
  },
  {
   "cell_type": "code",
   "execution_count": 6,
   "id": "f6463783-048d-4aa6-a6a0-066066be6b47",
   "metadata": {},
   "outputs": [
    {
     "data": {
      "text/plain": [
       "list"
      ]
     },
     "execution_count": 6,
     "metadata": {},
     "output_type": "execute_result"
    }
   ],
   "source": [
    "type(my_tuple)"
   ]
  },
  {
   "cell_type": "markdown",
   "id": "a7bcc0f0-c742-4390-856d-4d281ed233ad",
   "metadata": {
    "tags": []
   },
   "source": [
    "# convert a decimal number to binary."
   ]
  },
  {
   "cell_type": "code",
   "execution_count": 8,
   "id": "b7dd7f93-e47e-4177-a02d-593f34a8091a",
   "metadata": {},
   "outputs": [
    {
     "data": {
      "text/plain": [
       "'0b101'"
      ]
     },
     "execution_count": 8,
     "metadata": {},
     "output_type": "execute_result"
    }
   ],
   "source": [
    "bin(5)"
   ]
  },
  {
   "cell_type": "code",
   "execution_count": 9,
   "id": "ebfcfd29-ba4d-4689-8768-0aaf3e7a245c",
   "metadata": {},
   "outputs": [
    {
     "data": {
      "text/plain": [
       "'0b1011111'"
      ]
     },
     "execution_count": 9,
     "metadata": {},
     "output_type": "execute_result"
    }
   ],
   "source": [
    "bin(95)"
   ]
  },
  {
   "cell_type": "markdown",
   "id": "4e75d703-0bcf-4cc3-97bc-8d74a37ce045",
   "metadata": {},
   "source": [
    "#convert a non zero number to boolean"
   ]
  },
  {
   "cell_type": "code",
   "execution_count": 10,
   "id": "f41540e4-998d-4bf1-87ec-d1f2a0be0267",
   "metadata": {},
   "outputs": [
    {
     "name": "stdout",
     "output_type": "stream",
     "text": [
      "False\n"
     ]
    }
   ],
   "source": [
    "int_num = 0\n",
    "bool_num = bool(int_num)\n",
    "print(bool_num)"
   ]
  },
  {
   "cell_type": "code",
   "execution_count": 11,
   "id": "fd09a26f-3acb-402f-9511-bf7658a8b575",
   "metadata": {},
   "outputs": [
    {
     "name": "stdout",
     "output_type": "stream",
     "text": [
      "True\n"
     ]
    }
   ],
   "source": [
    "a = 2\n",
    "bool_num = bool(a)\n",
    "print(bool_num)\n"
   ]
  },
  {
   "cell_type": "code",
   "execution_count": 12,
   "id": "57e61500-d003-4ebe-9bca-a27e2971b064",
   "metadata": {},
   "outputs": [
    {
     "name": "stdout",
     "output_type": "stream",
     "text": [
      "True\n"
     ]
    }
   ],
   "source": [
    "c = 23\n",
    "bool_num = bool(c)\n",
    "print(bool_num)"
   ]
  },
  {
   "cell_type": "code",
   "execution_count": null,
   "id": "7bf50698-8a20-46e8-8979-2216c2e2c411",
   "metadata": {},
   "outputs": [],
   "source": []
  }
 ],
 "metadata": {
  "kernelspec": {
   "display_name": "Python 3 (ipykernel)",
   "language": "python",
   "name": "python3"
  },
  "language_info": {
   "codemirror_mode": {
    "name": "ipython",
    "version": 3
   },
   "file_extension": ".py",
   "mimetype": "text/x-python",
   "name": "python",
   "nbconvert_exporter": "python",
   "pygments_lexer": "ipython3",
   "version": "3.10.8"
  }
 },
 "nbformat": 4,
 "nbformat_minor": 5
}
