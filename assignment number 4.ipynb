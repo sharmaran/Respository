{
 "cells": [
  {
   "cell_type": "markdown",
   "id": "c925a790-8c69-49bc-8219-7e2ea5698b80",
   "metadata": {},
   "source": [
    "# Print number from 1 to 5 using a while loop."
   ]
  },
  {
   "cell_type": "code",
   "execution_count": 3,
   "id": "1e6e32c5-a40b-4238-a4e6-6ca34fe21f45",
   "metadata": {},
   "outputs": [
    {
     "name": "stdout",
     "output_type": "stream",
     "text": [
      "1\n",
      "2\n",
      "3\n",
      "4\n",
      "5\n"
     ]
    }
   ],
   "source": [
    "a = 6\n",
    "b = 1\n",
    "while b<a:\n",
    "    print(b)\n",
    "    b = b + 1"
   ]
  },
  {
   "cell_type": "markdown",
   "id": "feacfe33-ade5-4aed-a50b-f0a94accf583",
   "metadata": {},
   "source": [
    "Calculate the sum of numbers from 1 to 10 using a while loop. "
   ]
  },
  {
   "cell_type": "code",
   "execution_count": 8,
   "id": "fb9be772-dbcd-489d-ab37-a93251947653",
   "metadata": {},
   "outputs": [
    {
     "name": "stdout",
     "output_type": "stream",
     "text": [
      "55\n"
     ]
    }
   ],
   "source": [
    "sum = 0\n",
    "counter = 1\n",
    "while counter <= 10:\n",
    "    sum += counter\n",
    "    counter += 1\n",
    "print(sum)"
   ]
  },
  {
   "cell_type": "markdown",
   "id": "00531e2a-6da3-408b-8e2e-e8b7feb3aa2a",
   "metadata": {},
   "source": [
    "calculate the factorial of a number using a for loop."
   ]
  },
  {
   "cell_type": "code",
   "execution_count": 17,
   "id": "b99dd607-6247-456c-b13c-0cc699ea0be4",
   "metadata": {},
   "outputs": [
    {
     "name": "stdin",
     "output_type": "stream",
     "text": [
      "Enter a number:  20\n"
     ]
    },
    {
     "name": "stdout",
     "output_type": "stream",
     "text": [
      "The factorial of 20 is 2432902008176640000\n"
     ]
    }
   ],
   "source": [
    "def factorial(num):\n",
    "    factorial = 1\n",
    "    for i in range(1, num + 1):\n",
    "        factorial *= i\n",
    "    return factorial\n",
    "num = int(input(\"Enter a number: \"))\n",
    "print(f\"The factorial of {num} is {factorial(num)}\")"
   ]
  },
  {
   "cell_type": "code",
   "execution_count": 18,
   "id": "c547c84e-0d67-48a0-9cee-8cbcf3214167",
   "metadata": {},
   "outputs": [
    {
     "name": "stdin",
     "output_type": "stream",
     "text": [
      "Enter a number:  15\n"
     ]
    },
    {
     "name": "stdout",
     "output_type": "stream",
     "text": [
      "The factorial of 15 is 1307674368000\n"
     ]
    }
   ],
   "source": [
    "def factorial(num):\n",
    "    factorial = 1\n",
    "    for i in range(1, num + 1):\n",
    "        factorial *= i\n",
    "    return factorial\n",
    "num = int(input(\"Enter a number: \"))\n",
    "print(f\"The factorial of {num} is {factorial(num)}\")"
   ]
  },
  {
   "cell_type": "markdown",
   "id": "86c00997-2249-480d-8b2b-f064f62057d9",
   "metadata": {},
   "source": [
    "Calculate the number of vowels in a string using a for loop. \n"
   ]
  },
  {
   "cell_type": "code",
   "execution_count": 22,
   "id": "8532590a-5a4a-4d30-993b-4f7599192d33",
   "metadata": {},
   "outputs": [
    {
     "name": "stdin",
     "output_type": "stream",
     "text": [
      "Enter a string:  e\n"
     ]
    },
    {
     "name": "stdout",
     "output_type": "stream",
     "text": [
      "The number of vowels in 'e' is 1\n"
     ]
    }
   ],
   "source": [
    "def count_vowels(string):\n",
    "  \"\"\"\n",
    "  This function calculates the number of vowels in a string.\n",
    "\n",
    "  Args:\n",
    "      string: The string to be analyzed.\n",
    "\n",
    "  Returns:\n",
    "      The number of vowels in the string.\n",
    "  \"\"\"\n",
    "  vowels = \"aeiouAEIOU\"\n",
    "  count = 0\n",
    "  for char in string:\n",
    "    if char in vowels:\n",
    "      count += 1\n",
    "  return count\n",
    "string = input(\"Enter a string: \")\n",
    "print(f\"The number of vowels in '{string}' is {count_vowels(string)}\")"
   ]
  },
  {
   "cell_type": "markdown",
   "id": "8146fa0b-6eb1-4a0a-a5fd-9652fc61bc69",
   "metadata": {},
   "source": [
    "Print a pattern using nested loops. "
   ]
  },
  {
   "cell_type": "code",
   "execution_count": 23,
   "id": "cceed940-e378-4642-b6f3-ceb5b9b6d39b",
   "metadata": {},
   "outputs": [
    {
     "name": "stdout",
     "output_type": "stream",
     "text": [
      "* \n",
      "* * \n",
      "* * * \n",
      "* * * * \n",
      "* * * * * \n",
      "* * * * * * \n",
      "* * * * * * * \n",
      "* * * * * * * * \n",
      "* * * * * * * * * \n",
      "* * * * * * * * * * \n"
     ]
    }
   ],
   "source": [
    "for i in range(10):\n",
    "    for j in range(i + 1):\n",
    "        print(\"*\", end=\" \")\n",
    "    print()"
   ]
  },
  {
   "cell_type": "code",
   "execution_count": null,
   "id": "95f69f43-43c4-4549-a630-1ab92e3b1b63",
   "metadata": {},
   "outputs": [],
   "source": [
    "Generate a multiplication tabl"
   ]
  }
 ],
 "metadata": {
  "kernelspec": {
   "display_name": "Python 3 (ipykernel)",
   "language": "python",
   "name": "python3"
  },
  "language_info": {
   "codemirror_mode": {
    "name": "ipython",
    "version": 3
   },
   "file_extension": ".py",
   "mimetype": "text/x-python",
   "name": "python",
   "nbconvert_exporter": "python",
   "pygments_lexer": "ipython3",
   "version": "3.10.8"
  }
 },
 "nbformat": 4,
 "nbformat_minor": 5
}
