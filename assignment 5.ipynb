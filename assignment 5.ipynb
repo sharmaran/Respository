{
 "cells": [
  {
   "cell_type": "markdown",
   "id": "f5da63b6-09c9-4ea2-aad3-2bc66aee89b6",
   "metadata": {},
   "source": [
    "Write a program to print number from 1 to 10, but stop if the number is 5. "
   ]
  },
  {
   "cell_type": "code",
   "execution_count": 9,
   "id": "fe476a1f-7eb3-4ff0-9925-7ced4a851eb3",
   "metadata": {},
   "outputs": [
    {
     "name": "stdout",
     "output_type": "stream",
     "text": [
      "1\n",
      "2\n",
      "3\n",
      "4\n",
      "5\n",
      "Found the number 5. Exiting the loop.\n"
     ]
    }
   ],
   "source": [
    "counter = 1\n",
    "while counter <= 10:\n",
    "    print(counter)\n",
    "    if counter == 5:\n",
    "        print(\"Found the number 5. Exiting the loop.\")\n",
    "        break\n",
    "    counter += 1"
   ]
  },
  {
   "cell_type": "markdown",
   "id": "fd1d8bc1-48f9-4d43-a8d9-34e7435647cf",
   "metadata": {},
   "source": [
    "Write a program to iterate through a list a and stop when encoutering a sepcific element. "
   ]
  },
  {
   "cell_type": "code",
   "execution_count": 11,
   "id": "5489259d-0e93-4142-a044-13960bf8f44a",
   "metadata": {},
   "outputs": [
    {
     "name": "stdout",
     "output_type": "stream",
     "text": [
      "1\n",
      "2\n",
      "3\n",
      "4\n",
      "5\n"
     ]
    }
   ],
   "source": [
    "a = [1, 2, 3, 4, 5, 6, 7, 8, 9, 10]\n",
    "stop_at = 5\n",
    "for element in a:\n",
    "    print(element)\n",
    "    if element == stop_at:\n",
    "        break"
   ]
  },
  {
   "cell_type": "markdown",
   "id": "11a588ec-f8a3-4bd4-b8a4-da489ca2b094",
   "metadata": {},
   "source": [
    "Write a program to skip printing even number from 1 to 10."
   ]
  },
  {
   "cell_type": "code",
   "execution_count": 12,
   "id": "03d97010-793e-4830-8516-d8e025502210",
   "metadata": {},
   "outputs": [
    {
     "name": "stdout",
     "output_type": "stream",
     "text": [
      "1\n",
      "3\n",
      "5\n",
      "7\n",
      "9\n"
     ]
    }
   ],
   "source": [
    "for i in range(10):\n",
    "    if i % 2 == 0:\n",
    "        continue\n",
    "    print(i)"
   ]
  },
  {
   "cell_type": "markdown",
   "id": "45cbdb9f-c3ed-4f0a-84c3-18493127e12b",
   "metadata": {},
   "source": [
    "Write a program to print number  from 0 to 9 using range()."
   ]
  },
  {
   "cell_type": "code",
   "execution_count": 14,
   "id": "c6bd770d-91db-4c13-8465-1d3cf062117b",
   "metadata": {},
   "outputs": [
    {
     "name": "stdout",
     "output_type": "stream",
     "text": [
      "0\n",
      "1\n",
      "2\n",
      "3\n",
      "4\n",
      "5\n",
      "6\n",
      "7\n",
      "8\n",
      "9\n"
     ]
    }
   ],
   "source": [
    "for num in range(10):\n",
    "    print(num)"
   ]
  },
  {
   "cell_type": "markdown",
   "id": "f37763e5-bb48-404c-9091-d2fea3c808f3",
   "metadata": {},
   "source": [
    "Write a program to print multiplication tables from 1 to 5 but stop after the first table is printed for each number. "
   ]
  },
  {
   "cell_type": "code",
   "execution_count": 15,
   "id": "e784e0d3-f389-48f2-abcc-4abe4f68a1e0",
   "metadata": {},
   "outputs": [
    {
     "name": "stdout",
     "output_type": "stream",
     "text": [
      "Multiplication table for 1:\n",
      "1 * 1 = 1\n",
      "1 * 2 = 2\n",
      "1 * 3 = 3\n",
      "1 * 4 = 4\n",
      "1 * 5 = 5\n",
      "1 * 6 = 6\n",
      "1 * 7 = 7\n",
      "1 * 8 = 8\n",
      "1 * 9 = 9\n",
      "1 * 10 = 10\n",
      "\n"
     ]
    }
   ],
   "source": [
    "for i in range(1, 6):\n",
    "    print(f\"Multiplication table for {i}:\")\n",
    "    for j in range(1, 11):\n",
    "        product = i * j\n",
    "        print(f\"{i} * {j} = {product}\")\n",
    "    print()\n",
    "    break"
   ]
  },
  {
   "cell_type": "markdown",
   "id": "89b4155d-74a9-432a-8b82-2449a56be9c8",
   "metadata": {},
   "source": [
    "Write a program to skip printing even number using a while loop."
   ]
  },
  {
   "cell_type": "code",
   "execution_count": null,
   "id": "ed115819-f17c-4549-a7e6-94b60c694685",
   "metadata": {},
   "outputs": [],
   "source": []
  }
 ],
 "metadata": {
  "kernelspec": {
   "display_name": "Python 3 (ipykernel)",
   "language": "python",
   "name": "python3"
  },
  "language_info": {
   "codemirror_mode": {
    "name": "ipython",
    "version": 3
   },
   "file_extension": ".py",
   "mimetype": "text/x-python",
   "name": "python",
   "nbconvert_exporter": "python",
   "pygments_lexer": "ipython3",
   "version": "3.10.8"
  }
 },
 "nbformat": 4,
 "nbformat_minor": 5
}
