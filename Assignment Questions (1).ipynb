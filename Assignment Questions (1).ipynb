{
 "cells": [
  {
   "cell_type": "markdown",
   "id": "fc7c831d-125b-4012-afdc-23df21cd35b6",
   "metadata": {},
   "source": [
    "calculate the sum, difference, product, and quotient of two number"
   ]
  },
  {
   "cell_type": "code",
   "execution_count": 1,
   "id": "e44b1844-fb6c-4b6a-bbe5-435d8b2b5f53",
   "metadata": {},
   "outputs": [
    {
     "data": {
      "text/plain": [
       "25"
      ]
     },
     "execution_count": 1,
     "metadata": {},
     "output_type": "execute_result"
    }
   ],
   "source": [
    "a = 15\n",
    "b = 10\n",
    "a + b"
   ]
  },
  {
   "cell_type": "code",
   "execution_count": 2,
   "id": "19b1a525-5895-4086-80c3-90e61d0704f0",
   "metadata": {},
   "outputs": [
    {
     "data": {
      "text/plain": [
       "5"
      ]
     },
     "execution_count": 2,
     "metadata": {},
     "output_type": "execute_result"
    }
   ],
   "source": [
    "15 - 10 # difference "
   ]
  },
  {
   "cell_type": "code",
   "execution_count": 3,
   "id": "b6ddbfe6-214c-46c4-a5ad-2f56add0ebe5",
   "metadata": {},
   "outputs": [
    {
     "data": {
      "text/plain": [
       "150"
      ]
     },
     "execution_count": 3,
     "metadata": {},
     "output_type": "execute_result"
    }
   ],
   "source": [
    "15 * 10 # product"
   ]
  },
  {
   "cell_type": "code",
   "execution_count": 4,
   "id": "22130680-e8f8-4e31-a91f-3051b57bc946",
   "metadata": {},
   "outputs": [
    {
     "data": {
      "text/plain": [
       "100.0"
      ]
     },
     "execution_count": 4,
     "metadata": {},
     "output_type": "execute_result"
    }
   ],
   "source": [
    "400 / 4 #quotient "
   ]
  },
  {
   "cell_type": "markdown",
   "id": "3ffa799e-a485-4914-ad46-ee46b4a6e10f",
   "metadata": {},
   "source": [
    "# Perform various assignment operation on a variable"
   ]
  },
  {
   "cell_type": "code",
   "execution_count": 5,
   "id": "d0625027-a793-4814-9f71-c349e1ff3155",
   "metadata": {},
   "outputs": [],
   "source": [
    "a = 20"
   ]
  },
  {
   "cell_type": "code",
   "execution_count": 6,
   "id": "a7d8c704-e723-41d7-9c44-0ff9a5ccb243",
   "metadata": {},
   "outputs": [
    {
     "data": {
      "text/plain": [
       "20"
      ]
     },
     "execution_count": 6,
     "metadata": {},
     "output_type": "execute_result"
    }
   ],
   "source": [
    "a"
   ]
  },
  {
   "cell_type": "code",
   "execution_count": 7,
   "id": "454961c2-be08-4ee8-97d0-46a50222879f",
   "metadata": {},
   "outputs": [
    {
     "data": {
      "text/plain": [
       "30"
      ]
     },
     "execution_count": 7,
     "metadata": {},
     "output_type": "execute_result"
    }
   ],
   "source": [
    "a + 10"
   ]
  },
  {
   "cell_type": "code",
   "execution_count": 10,
   "id": "443c3ba3-f377-4a4a-8fb1-da8c54752f4e",
   "metadata": {},
   "outputs": [],
   "source": [
    "a = a + 10"
   ]
  },
  {
   "cell_type": "code",
   "execution_count": 11,
   "id": "41877974-01a5-4e1c-a334-4afd4d259174",
   "metadata": {},
   "outputs": [
    {
     "data": {
      "text/plain": [
       "40"
      ]
     },
     "execution_count": 11,
     "metadata": {},
     "output_type": "execute_result"
    }
   ],
   "source": [
    "a"
   ]
  },
  {
   "cell_type": "code",
   "execution_count": 17,
   "id": "013c73f4-7755-494a-9acd-b8b4a0b63682",
   "metadata": {},
   "outputs": [],
   "source": [
    "a *= 2"
   ]
  },
  {
   "cell_type": "code",
   "execution_count": 18,
   "id": "d11680ab-9854-461c-919d-b3c34aef3bf7",
   "metadata": {},
   "outputs": [
    {
     "data": {
      "text/plain": [
       "20.0"
      ]
     },
     "execution_count": 18,
     "metadata": {},
     "output_type": "execute_result"
    }
   ],
   "source": [
    "a"
   ]
  },
  {
   "cell_type": "code",
   "execution_count": 15,
   "id": "a1f078db-8109-4e90-aa3c-068ef69f2a7a",
   "metadata": {},
   "outputs": [],
   "source": [
    "a /= 2"
   ]
  },
  {
   "cell_type": "code",
   "execution_count": 19,
   "id": "72397db5-d141-4554-b7ab-90e49d6b4081",
   "metadata": {},
   "outputs": [
    {
     "data": {
      "text/plain": [
       "20.0"
      ]
     },
     "execution_count": 19,
     "metadata": {},
     "output_type": "execute_result"
    }
   ],
   "source": [
    "a"
   ]
  },
  {
   "cell_type": "markdown",
   "id": "a67dd16d-51be-449d-864f-a348abd4691b",
   "metadata": {},
   "source": [
    "#compare two numbers and print the results. "
   ]
  },
  {
   "cell_type": "code",
   "execution_count": 20,
   "id": "c22cb937-bd30-4f40-8a8c-04db932f0357",
   "metadata": {},
   "outputs": [
    {
     "data": {
      "text/plain": [
       "True"
      ]
     },
     "execution_count": 20,
     "metadata": {},
     "output_type": "execute_result"
    }
   ],
   "source": [
    "10 > 2"
   ]
  },
  {
   "cell_type": "code",
   "execution_count": 21,
   "id": "b27efaaa-6141-4852-a0ab-744a122fc03c",
   "metadata": {},
   "outputs": [
    {
     "data": {
      "text/plain": [
       "False"
      ]
     },
     "execution_count": 21,
     "metadata": {},
     "output_type": "execute_result"
    }
   ],
   "source": [
    "25 < 20"
   ]
  },
  {
   "cell_type": "code",
   "execution_count": 24,
   "id": "b8e9408a-deee-469f-8db9-a92a41e508e4",
   "metadata": {},
   "outputs": [
    {
     "data": {
      "text/plain": [
       "True"
      ]
     },
     "execution_count": 24,
     "metadata": {},
     "output_type": "execute_result"
    }
   ],
   "source": [
    "10 != 5"
   ]
  },
  {
   "cell_type": "code",
   "execution_count": 25,
   "id": "4d7a8236-9854-4fb8-ba6e-023dc543d4de",
   "metadata": {},
   "outputs": [
    {
     "data": {
      "text/plain": [
       "False"
      ]
     },
     "execution_count": 25,
     "metadata": {},
     "output_type": "execute_result"
    }
   ],
   "source": [
    "10 >= 25"
   ]
  },
  {
   "cell_type": "code",
   "execution_count": 26,
   "id": "5fd45e4c-0c9e-4b35-8926-119d5b9ed56a",
   "metadata": {},
   "outputs": [
    {
     "data": {
      "text/plain": [
       "False"
      ]
     },
     "execution_count": 26,
     "metadata": {},
     "output_type": "execute_result"
    }
   ],
   "source": [
    "25 <= 20"
   ]
  },
  {
   "cell_type": "code",
   "execution_count": 28,
   "id": "2c87f65e-e829-44b4-ab94-378824c94c7d",
   "metadata": {},
   "outputs": [
    {
     "data": {
      "text/plain": [
       "True"
      ]
     },
     "execution_count": 28,
     "metadata": {},
     "output_type": "execute_result"
    }
   ],
   "source": [
    "25 >= 15"
   ]
  },
  {
   "cell_type": "code",
   "execution_count": 31,
   "id": "5956ea27-edf0-430c-a834-51a56f7da691",
   "metadata": {},
   "outputs": [
    {
     "data": {
      "text/plain": [
       "True"
      ]
     },
     "execution_count": 31,
     "metadata": {},
     "output_type": "execute_result"
    }
   ],
   "source": [
    "5 != 6"
   ]
  },
  {
   "cell_type": "markdown",
   "id": "555e8de3-d851-4e48-838f-fea57447ee61",
   "metadata": {},
   "source": [
    "# check conditions using logical operators. "
   ]
  },
  {
   "cell_type": "code",
   "execution_count": 32,
   "id": "d5811662-8830-4789-83c7-b6caa1f87570",
   "metadata": {},
   "outputs": [
    {
     "data": {
      "text/plain": [
       "True"
      ]
     },
     "execution_count": 32,
     "metadata": {},
     "output_type": "execute_result"
    }
   ],
   "source": [
    "True  and True "
   ]
  },
  {
   "cell_type": "code",
   "execution_count": 33,
   "id": "02ad1886-d5f9-4cec-936f-f9acce21478f",
   "metadata": {},
   "outputs": [
    {
     "data": {
      "text/plain": [
       "False"
      ]
     },
     "execution_count": 33,
     "metadata": {},
     "output_type": "execute_result"
    }
   ],
   "source": [
    "True and False"
   ]
  },
  {
   "cell_type": "code",
   "execution_count": 34,
   "id": "a316fc07-5f43-4046-875f-391527f58bd0",
   "metadata": {},
   "outputs": [
    {
     "data": {
      "text/plain": [
       "False"
      ]
     },
     "execution_count": 34,
     "metadata": {},
     "output_type": "execute_result"
    }
   ],
   "source": [
    "False and False "
   ]
  },
  {
   "cell_type": "code",
   "execution_count": 35,
   "id": "0252f1a8-0566-4cce-854e-a3cd7f93f689",
   "metadata": {},
   "outputs": [
    {
     "data": {
      "text/plain": [
       "False"
      ]
     },
     "execution_count": 35,
     "metadata": {},
     "output_type": "execute_result"
    }
   ],
   "source": [
    "False and True"
   ]
  },
  {
   "cell_type": "code",
   "execution_count": 36,
   "id": "a758c13a-f3d5-4b1e-b286-1c6e0fca54b8",
   "metadata": {},
   "outputs": [
    {
     "data": {
      "text/plain": [
       "True"
      ]
     },
     "execution_count": 36,
     "metadata": {},
     "output_type": "execute_result"
    }
   ],
   "source": [
    "True or True "
   ]
  },
  {
   "cell_type": "code",
   "execution_count": 37,
   "id": "0d099fbb-d162-40f7-87c5-85769db72a9f",
   "metadata": {},
   "outputs": [
    {
     "data": {
      "text/plain": [
       "True"
      ]
     },
     "execution_count": 37,
     "metadata": {},
     "output_type": "execute_result"
    }
   ],
   "source": [
    "True or False "
   ]
  },
  {
   "cell_type": "code",
   "execution_count": 38,
   "id": "9da06d6d-c22a-4a23-b542-2fd49d472011",
   "metadata": {},
   "outputs": [
    {
     "data": {
      "text/plain": [
       "False"
      ]
     },
     "execution_count": 38,
     "metadata": {},
     "output_type": "execute_result"
    }
   ],
   "source": [
    "False or False "
   ]
  },
  {
   "cell_type": "code",
   "execution_count": 39,
   "id": "82142f51-7625-49ea-bbbc-ecb1c8d483a8",
   "metadata": {},
   "outputs": [
    {
     "data": {
      "text/plain": [
       "True"
      ]
     },
     "execution_count": 39,
     "metadata": {},
     "output_type": "execute_result"
    }
   ],
   "source": [
    "False or True "
   ]
  },
  {
   "cell_type": "markdown",
   "id": "91c55a70-7e26-4614-b69d-148d2b42ae2c",
   "metadata": {},
   "source": [
    "#check the identity of variables."
   ]
  },
  {
   "cell_type": "code",
   "execution_count": 40,
   "id": "6c1f7d0e-16fd-4208-8249-5f2bc3dfbf9a",
   "metadata": {},
   "outputs": [],
   "source": [
    "a = 5\n",
    "b = 10\n"
   ]
  },
  {
   "cell_type": "code",
   "execution_count": 41,
   "id": "8487a929-ff39-4960-8b09-e3f194623732",
   "metadata": {},
   "outputs": [
    {
     "data": {
      "text/plain": [
       "False"
      ]
     },
     "execution_count": 41,
     "metadata": {},
     "output_type": "execute_result"
    }
   ],
   "source": [
    "a is b"
   ]
  },
  {
   "cell_type": "code",
   "execution_count": 42,
   "id": "64446309-f078-4b97-95f3-ab58b4fb1671",
   "metadata": {},
   "outputs": [
    {
     "data": {
      "text/plain": [
       "False"
      ]
     },
     "execution_count": 42,
     "metadata": {},
     "output_type": "execute_result"
    }
   ],
   "source": [
    "b is a "
   ]
  },
  {
   "cell_type": "code",
   "execution_count": 50,
   "id": "abc30ce4-11fc-43ec-ae6e-45359a9402ed",
   "metadata": {},
   "outputs": [
    {
     "data": {
      "text/plain": [
       "True"
      ]
     },
     "execution_count": 50,
     "metadata": {},
     "output_type": "execute_result"
    }
   ],
   "source": [
    "a is not b"
   ]
  },
  {
   "cell_type": "code",
   "execution_count": 46,
   "id": "e96cd3a3-4edd-42c2-9073-b97f90e543b6",
   "metadata": {},
   "outputs": [],
   "source": [
    "a = b"
   ]
  },
  {
   "cell_type": "code",
   "execution_count": 47,
   "id": "167583ee-a57b-4f0d-a2d3-0290321fdb3d",
   "metadata": {},
   "outputs": [
    {
     "data": {
      "text/plain": [
       "True"
      ]
     },
     "execution_count": 47,
     "metadata": {},
     "output_type": "execute_result"
    }
   ],
   "source": [
    "a is b"
   ]
  },
  {
   "cell_type": "code",
   "execution_count": 43,
   "id": "46bdbbc8-f4ab-4bab-8708-1166cacc6aa1",
   "metadata": {},
   "outputs": [],
   "source": [
    "a = 10 \n",
    "b = 10"
   ]
  },
  {
   "cell_type": "code",
   "execution_count": 44,
   "id": "dd74b744-9b40-4ef9-b63d-c27a57791521",
   "metadata": {},
   "outputs": [
    {
     "data": {
      "text/plain": [
       "True"
      ]
     },
     "execution_count": 44,
     "metadata": {},
     "output_type": "execute_result"
    }
   ],
   "source": [
    "a is b "
   ]
  },
  {
   "cell_type": "code",
   "execution_count": 52,
   "id": "3bc2a130-3c40-4980-a91a-be02c4517dc5",
   "metadata": {},
   "outputs": [
    {
     "data": {
      "text/plain": [
       "True"
      ]
     },
     "execution_count": 52,
     "metadata": {},
     "output_type": "execute_result"
    }
   ],
   "source": [
    "a is not b"
   ]
  },
  {
   "cell_type": "code",
   "execution_count": 45,
   "id": "86170dae-f5b2-4e32-8a20-1cc2bef3541f",
   "metadata": {},
   "outputs": [
    {
     "data": {
      "text/plain": [
       "True"
      ]
     },
     "execution_count": 45,
     "metadata": {},
     "output_type": "execute_result"
    }
   ],
   "source": [
    "b is a"
   ]
  },
  {
   "cell_type": "code",
   "execution_count": 48,
   "id": "88522a5a-aedc-42b0-83d8-457534430de2",
   "metadata": {},
   "outputs": [],
   "source": [
    "a = \"Ranjan\"\n",
    "b = \"Sharma\""
   ]
  },
  {
   "cell_type": "code",
   "execution_count": 49,
   "id": "37feeef3-f9f7-4542-ad07-3b581955884a",
   "metadata": {},
   "outputs": [
    {
     "data": {
      "text/plain": [
       "False"
      ]
     },
     "execution_count": 49,
     "metadata": {},
     "output_type": "execute_result"
    }
   ],
   "source": [
    "a is b "
   ]
  },
  {
   "cell_type": "code",
   "execution_count": 51,
   "id": "57dd55f6-f501-4a7d-b251-73f6dd731aba",
   "metadata": {},
   "outputs": [
    {
     "data": {
      "text/plain": [
       "True"
      ]
     },
     "execution_count": 51,
     "metadata": {},
     "output_type": "execute_result"
    }
   ],
   "source": [
    "b is not a "
   ]
  },
  {
   "cell_type": "markdown",
   "id": "75128d81-74fe-4eed-89dd-30d75cb617d7",
   "metadata": {},
   "source": [
    "# Perform bitwise operations on any two integers. "
   ]
  },
  {
   "cell_type": "code",
   "execution_count": 53,
   "id": "7a63a510-571d-4309-972c-bc9c4169101f",
   "metadata": {},
   "outputs": [
    {
     "data": {
      "text/plain": [
       "10"
      ]
     },
     "execution_count": 53,
     "metadata": {},
     "output_type": "execute_result"
    }
   ],
   "source": [
    "10 & 10"
   ]
  },
  {
   "cell_type": "code",
   "execution_count": 57,
   "id": "70ea93ee-e0f4-4d38-95f0-bcde40ca5513",
   "metadata": {},
   "outputs": [
    {
     "data": {
      "text/plain": [
       "2"
      ]
     },
     "execution_count": 57,
     "metadata": {},
     "output_type": "execute_result"
    }
   ],
   "source": [
    "18 & 3"
   ]
  },
  {
   "cell_type": "code",
   "execution_count": 58,
   "id": "b62902e9-0fc8-40b3-b3e3-9c6f03a1118e",
   "metadata": {},
   "outputs": [
    {
     "data": {
      "text/plain": [
       "'0b1010'"
      ]
     },
     "execution_count": 58,
     "metadata": {},
     "output_type": "execute_result"
    }
   ],
   "source": [
    "bin(10)"
   ]
  },
  {
   "cell_type": "code",
   "execution_count": 59,
   "id": "536c7def-e0ed-4b97-90bb-33bba9e07d26",
   "metadata": {},
   "outputs": [
    {
     "data": {
      "text/plain": [
       "'0b10010'"
      ]
     },
     "execution_count": 59,
     "metadata": {},
     "output_type": "execute_result"
    }
   ],
   "source": [
    "bin(18)"
   ]
  },
  {
   "cell_type": "code",
   "execution_count": 60,
   "id": "2d7ad972-c93c-44ca-a9de-7cd880721b1f",
   "metadata": {},
   "outputs": [
    {
     "data": {
      "text/plain": [
       "'0b11'"
      ]
     },
     "execution_count": 60,
     "metadata": {},
     "output_type": "execute_result"
    }
   ],
   "source": [
    "bin(3)"
   ]
  },
  {
   "cell_type": "code",
   "execution_count": 61,
   "id": "a406f61b-1bb7-4c2d-9c93-d21536a48bfe",
   "metadata": {},
   "outputs": [
    {
     "data": {
      "text/plain": [
       "15"
      ]
     },
     "execution_count": 61,
     "metadata": {},
     "output_type": "execute_result"
    }
   ],
   "source": [
    "5 | 10"
   ]
  },
  {
   "cell_type": "code",
   "execution_count": 62,
   "id": "5de08c1e-9219-4210-9ffd-e346e5821b52",
   "metadata": {},
   "outputs": [
    {
     "data": {
      "text/plain": [
       "7"
      ]
     },
     "execution_count": 62,
     "metadata": {},
     "output_type": "execute_result"
    }
   ],
   "source": [
    "3 | 5"
   ]
  },
  {
   "cell_type": "code",
   "execution_count": 63,
   "id": "0ad5148a-84df-4428-941b-1961685dba86",
   "metadata": {},
   "outputs": [
    {
     "data": {
      "text/plain": [
       "-6"
      ]
     },
     "execution_count": 63,
     "metadata": {},
     "output_type": "execute_result"
    }
   ],
   "source": [
    "#negation\n",
    "~5"
   ]
  },
  {
   "cell_type": "code",
   "execution_count": 64,
   "id": "bb3af024-091c-4b8e-9559-2d985488189b",
   "metadata": {},
   "outputs": [
    {
     "data": {
      "text/plain": [
       "-100"
      ]
     },
     "execution_count": 64,
     "metadata": {},
     "output_type": "execute_result"
    }
   ],
   "source": [
    "~99"
   ]
  },
  {
   "cell_type": "code",
   "execution_count": 65,
   "id": "94da908a-9390-4031-9680-0f862069c097",
   "metadata": {},
   "outputs": [
    {
     "data": {
      "text/plain": [
       "10"
      ]
     },
     "execution_count": 65,
     "metadata": {},
     "output_type": "execute_result"
    }
   ],
   "source": [
    "# Bitwise XOR\n",
    "\n",
    "8 ^ 2"
   ]
  },
  {
   "cell_type": "code",
   "execution_count": 66,
   "id": "68d1575e-9b21-4d8a-a432-baa65b9872ff",
   "metadata": {},
   "outputs": [
    {
     "data": {
      "text/plain": [
       "0"
      ]
     },
     "execution_count": 66,
     "metadata": {},
     "output_type": "execute_result"
    }
   ],
   "source": [
    "10 ^ 10"
   ]
  },
  {
   "cell_type": "code",
   "execution_count": 69,
   "id": "3122076d-60a5-4946-a22f-0a1aef57fd23",
   "metadata": {},
   "outputs": [
    {
     "data": {
      "text/plain": [
       "560"
      ]
     },
     "execution_count": 69,
     "metadata": {},
     "output_type": "execute_result"
    }
   ],
   "source": [
    "#Left shit \n",
    "\n",
    "35 << 4"
   ]
  },
  {
   "cell_type": "code",
   "execution_count": 70,
   "id": "789c2946-fac8-42fd-939f-45813eb86b53",
   "metadata": {},
   "outputs": [
    {
     "data": {
      "text/plain": [
       "20"
      ]
     },
     "execution_count": 70,
     "metadata": {},
     "output_type": "execute_result"
    }
   ],
   "source": [
    "5 << 2"
   ]
  },
  {
   "cell_type": "code",
   "execution_count": 71,
   "id": "99085132-38cb-417f-8cb2-ba6aff2140a6",
   "metadata": {},
   "outputs": [
    {
     "data": {
      "text/plain": [
       "0"
      ]
     },
     "execution_count": 71,
     "metadata": {},
     "output_type": "execute_result"
    }
   ],
   "source": [
    "#Right shift\n",
    "\n",
    "12 >> 25"
   ]
  },
  {
   "cell_type": "code",
   "execution_count": 72,
   "id": "ffe02c19-89a9-48a5-b94d-f787778a89b2",
   "metadata": {},
   "outputs": [
    {
     "data": {
      "text/plain": [
       "0"
      ]
     },
     "execution_count": 72,
     "metadata": {},
     "output_type": "execute_result"
    }
   ],
   "source": [
    "15 >> 25"
   ]
  },
  {
   "cell_type": "markdown",
   "id": "7e4aa2c8-2fe9-4a7d-8e4b-9b5be3c5d383",
   "metadata": {},
   "source": [
    "#Use unary operator to change the sign of a number "
   ]
  },
  {
   "cell_type": "code",
   "execution_count": 77,
   "id": "259ac820-de2e-4aee-9705-5ec86b4acccc",
   "metadata": {},
   "outputs": [],
   "source": [
    "a = 5\n",
    "b = 2\n"
   ]
  },
  {
   "cell_type": "code",
   "execution_count": 78,
   "id": "3d3b00cf-48bd-41b6-875b-fb0542c58309",
   "metadata": {},
   "outputs": [
    {
     "data": {
      "text/plain": [
       "-5"
      ]
     },
     "execution_count": 78,
     "metadata": {},
     "output_type": "execute_result"
    }
   ],
   "source": [
    ">>> -a"
   ]
  },
  {
   "cell_type": "code",
   "execution_count": 80,
   "id": "bdd08266-b647-437d-853e-68001dfc81d7",
   "metadata": {},
   "outputs": [
    {
     "data": {
      "text/plain": [
       "-2"
      ]
     },
     "execution_count": 80,
     "metadata": {},
     "output_type": "execute_result"
    }
   ],
   "source": [
    ">>> -b"
   ]
  },
  {
   "cell_type": "code",
   "execution_count": 83,
   "id": "5acbcd6d-6a9b-49aa-8fb4-8f1544ae51c5",
   "metadata": {},
   "outputs": [
    {
     "data": {
      "text/plain": [
       "5"
      ]
     },
     "execution_count": 83,
     "metadata": {},
     "output_type": "execute_result"
    }
   ],
   "source": [
    ">>> +a"
   ]
  },
  {
   "cell_type": "markdown",
   "id": "53529590-66bf-4ee6-942c-acabd0fad853",
   "metadata": {},
   "source": [
    "#use the ternary operator to assign values based on conditions."
   ]
  },
  {
   "cell_type": "code",
   "execution_count": 1,
   "id": "54c88a41-69a0-4f2a-9991-e554ca4426c4",
   "metadata": {},
   "outputs": [
    {
     "name": "stdout",
     "output_type": "stream",
     "text": [
      "next level\n"
     ]
    }
   ],
   "source": [
    "user_score = 90\n",
    "print(\"next level\") if user_score > 50 else print(\"Repeat level\")"
   ]
  },
  {
   "cell_type": "code",
   "execution_count": 9,
   "id": "365de10c-28c7-4a33-b524-be0718d5357e",
   "metadata": {},
   "outputs": [
    {
     "name": "stdout",
     "output_type": "stream",
     "text": [
      "If age is greater than 18 adult\n"
     ]
    }
   ],
   "source": [
    "age = 25\n",
    "print(\"If age is greater than 18 adult\") if age > 18 else print(\"Minor\")\n"
   ]
  },
  {
   "cell_type": "code",
   "execution_count": null,
   "id": "7cada10e-01b1-40ca-91df-8fc21589bf93",
   "metadata": {},
   "outputs": [],
   "source": []
  }
 ],
 "metadata": {
  "kernelspec": {
   "display_name": "Python 3 (ipykernel)",
   "language": "python",
   "name": "python3"
  },
  "language_info": {
   "codemirror_mode": {
    "name": "ipython",
    "version": 3
   },
   "file_extension": ".py",
   "mimetype": "text/x-python",
   "name": "python",
   "nbconvert_exporter": "python",
   "pygments_lexer": "ipython3",
   "version": "3.10.8"
  }
 },
 "nbformat": 4,
 "nbformat_minor": 5
}
